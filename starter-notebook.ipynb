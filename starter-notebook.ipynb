{
 "cells": [
  {
   "cell_type": "code",
   "execution_count": 1,
   "metadata": {},
   "outputs": [],
   "source": [
    "import pandas as pd"
   ]
  },
  {
   "cell_type": "code",
   "execution_count": 2,
   "metadata": {},
   "outputs": [],
   "source": [
    "df = pd.read_csv('datasets/Train.csv')"
   ]
  },
  {
   "cell_type": "code",
   "execution_count": 3,
   "metadata": {},
   "outputs": [
    {
     "name": "stdout",
     "output_type": "stream",
     "text": [
      "<class 'pandas.core.frame.DataFrame'>\n",
      "RangeIndex: 289926 entries, 0 to 289925\n",
      "Data columns (total 19 columns):\n",
      " #   Column              Non-Null Count   Dtype  \n",
      "---  ------              --------------   -----  \n",
      " 0   impressions         289526 non-null  float64\n",
      " 1   clicks              289526 non-null  float64\n",
      " 2   cost                289526 non-null  float64\n",
      " 3   conversions         289526 non-null  float64\n",
      " 4   ad_type             289526 non-null  object \n",
      " 5   currency            289526 non-null  object \n",
      " 6   ID                  289926 non-null  object \n",
      " 7   date                289926 non-null  object \n",
      " 8   call_type           36900 non-null   object \n",
      " 9   call_status         36900 non-null   object \n",
      " 10  start_time          36900 non-null   object \n",
      " 11  duration            36900 non-null   float64\n",
      " 12  end_time            36900 non-null   object \n",
      " 13  display_location    36900 non-null   object \n",
      " 14  impression_share    289926 non-null  float64\n",
      " 15  conversions_calls   280071 non-null  float64\n",
      " 16  headline1_len       289526 non-null  float64\n",
      " 17  headline2_len       289526 non-null  float64\n",
      " 18  ad_description_len  289526 non-null  float64\n",
      "dtypes: float64(10), object(9)\n",
      "memory usage: 42.0+ MB\n"
     ]
    }
   ],
   "source": [
    "df.info()"
   ]
  },
  {
   "cell_type": "code",
   "execution_count": null,
   "metadata": {},
   "outputs": [],
   "source": []
  }
 ],
 "metadata": {
  "kernelspec": {
   "display_name": "Python 3",
   "language": "python",
   "name": "python3"
  },
  "language_info": {
   "codemirror_mode": {
    "name": "ipython",
    "version": 3
   },
   "file_extension": ".py",
   "mimetype": "text/x-python",
   "name": "python",
   "nbconvert_exporter": "python",
   "pygments_lexer": "ipython3",
   "version": "3.11.4"
  }
 },
 "nbformat": 4,
 "nbformat_minor": 2
}
