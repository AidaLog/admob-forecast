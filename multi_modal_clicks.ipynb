{
  "cells": [
    {
      "cell_type": "code",
      "execution_count": null,
      "metadata": {
        "colab": {
          "base_uri": "https://localhost:8080/"
        },
        "id": "vGp6OkwClL4Y",
        "outputId": "40a8ca59-50fc-47fd-eecb-cbd6d9284e77"
      },
      "outputs": [],
      "source": [
        "!git clone https://github.com/AidaLog/admob-forecast.git"
      ]
    },
    {
      "cell_type": "code",
      "execution_count": null,
      "metadata": {
        "id": "vyf2h0rClUuS"
      },
      "outputs": [],
      "source": [
        "!cd ./admob-forecast"
      ]
    },
    {
      "cell_type": "code",
      "execution_count": null,
      "metadata": {
        "id": "IfQyr2Qmg7Qk"
      },
      "outputs": [],
      "source": [
        "import pandas as pd\n",
        "import numpy as np"
      ]
    },
    {
      "cell_type": "code",
      "execution_count": null,
      "metadata": {
        "id": "xa_AfCEsg7Qm"
      },
      "outputs": [],
      "source": [
        "df = pd.read_csv('datasets/Train.csv')\n",
        "\n",
        "# ignore columns call_type\tcall_status\tstart_time\tduration\tend_time\tdisplay_location\n",
        "\n",
        "df = df.drop(columns=['call_type', 'call_status', 'start_time', 'duration', 'end_time', 'display_location'])\n",
        "df['conversions_calls'] = df['conversions_calls'].interpolate().fillna(df['conversions_calls'].interpolate().mean())\n",
        "\n",
        "\n",
        "# Step 1: Identify numeric columns\n",
        "numeric_columns = df.select_dtypes(include=['float64']).columns\n",
        "df[numeric_columns] = df[numeric_columns].fillna(df[numeric_columns].mean())\n",
        "df = df.dropna()\n"
      ]
    },
    {
      "cell_type": "code",
      "execution_count": null,
      "metadata": {
        "colab": {
          "base_uri": "https://localhost:8080/"
        },
        "id": "rssXBvzlp-5y",
        "outputId": "38ec5f52-f96b-4946-ca16-0b4796dc742d"
      },
      "outputs": [],
      "source": [
        "df.info()"
      ]
    },
    {
      "cell_type": "code",
      "execution_count": null,
      "metadata": {
        "colab": {
          "base_uri": "https://localhost:8080/"
        },
        "id": "9XyR2AjslIRm",
        "outputId": "80c5abb6-2a36-4a5c-ebab-17088ab2a6f3"
      },
      "outputs": [],
      "source": [
        "df['currency'].unique(), df['currency'].nunique()"
      ]
    },
    {
      "cell_type": "code",
      "execution_count": null,
      "metadata": {
        "id": "2B2lME-TlIRn"
      },
      "outputs": [],
      "source": [
        "# Example exchange rates for ZAR and USD\n",
        "exchange_rates = {'USD': 1.0, 'ZAR': 0.071}  # 1 USD = 0.071 ZAR\n",
        "\n",
        "# Function to convert cost to USD\n",
        "def convert_to_usd(currency, cost):\n",
        "    exchange_rate = exchange_rates.get(currency, 1.0)  # Default to 1.0 if currency not found\n",
        "    return cost * exchange_rate\n",
        "\n",
        "# Update 'cost' column with cost in USD\n",
        "df['cost'] = df.apply(lambda row: convert_to_usd(row['currency'], row['cost']), axis=1)\n",
        "\n",
        "# leaving currency column to determine locality\n"
      ]
    },
    {
      "cell_type": "code",
      "execution_count": null,
      "metadata": {
        "id": "7S_5mUcmlIRo"
      },
      "outputs": [],
      "source": [
        "df['date'] = pd.to_datetime(df['date'])\n",
        "df['year'] = df['date'].dt.year\n",
        "df['month'] = df['date'].dt.month\n",
        "df['day'] = df['date'].dt.day"
      ]
    },
    {
      "cell_type": "code",
      "execution_count": null,
      "metadata": {
        "colab": {
          "base_uri": "https://localhost:8080/"
        },
        "id": "HnxeO_r1g7Qn",
        "outputId": "a4ace8ab-00ad-47be-c983-bc3f152c6e4a"
      },
      "outputs": [],
      "source": [
        "# display rows with ID ID_5e43c29e6279884e2827d894\n",
        "\n",
        "df.loc[df['ID'] == 'ID_5e43c29e6279884e2827d894']['ad_type'].unique()"
      ]
    },
    {
      "cell_type": "code",
      "execution_count": null,
      "metadata": {
        "colab": {
          "base_uri": "https://localhost:8080/",
          "height": 313
        },
        "id": "HjIyOtGslIRp",
        "outputId": "e5cb5fd1-0421-4c1d-9ca7-4b610a5058d8"
      },
      "outputs": [],
      "source": [
        "# encode currency, ad_type\n",
        "from sklearn.preprocessing import LabelEncoder\n",
        "\n",
        "le = LabelEncoder()\n",
        "\n",
        "df['ad_type'] = le.fit_transform(df['ad_type'])\n",
        "df['currency'] = le.fit_transform(df['currency'])\n",
        "\n",
        "df.head()"
      ]
    },
    {
      "cell_type": "code",
      "execution_count": null,
      "metadata": {
        "id": "-pixGVsQg7Qo"
      },
      "outputs": [],
      "source": [
        "y = df['clicks']\n",
        "X = df.drop(columns=['ID', 'clicks'])\n",
        "\n",
        "X = X.drop(['date'], axis=1)"
      ]
    },
    {
      "cell_type": "code",
      "execution_count": null,
      "metadata": {
        "id": "TNVyqLkpg7Qp"
      },
      "outputs": [],
      "source": [
        "from sklearn.preprocessing import StandardScaler\n",
        "\n",
        "# Standardize features\n",
        "scaler = StandardScaler()\n",
        "X_scaled = scaler.fit_transform(X)\n",
        "X = pd.DataFrame(X_scaled, columns=X.columns)"
      ]
    },
    {
      "cell_type": "code",
      "execution_count": null,
      "metadata": {
        "id": "55icqBX0g7Qq"
      },
      "outputs": [],
      "source": [
        "_prepd_df = pd.concat([X, y], axis=1)"
      ]
    },
    {
      "cell_type": "code",
      "execution_count": null,
      "metadata": {
        "colab": {
          "base_uri": "https://localhost:8080/",
          "height": 568
        },
        "id": "NXT-Euskg7Qr",
        "outputId": "8d3cfdcd-257b-468d-ef5e-5596656f277b"
      },
      "outputs": [],
      "source": [
        "# plot correlation matrix\n",
        "import seaborn as sns\n",
        "\n",
        "corr = _prepd_df.corr()\n",
        "\n",
        "sns.heatmap(corr, annot=True)"
      ]
    },
    {
      "cell_type": "code",
      "execution_count": null,
      "metadata": {
        "colab": {
          "base_uri": "https://localhost:8080/"
        },
        "id": "tdVzJsOYg7Qs",
        "outputId": "ac3fc3bf-f021-48af-8ab3-63394486bc6c"
      },
      "outputs": [],
      "source": [
        "# from corr matrix, show features correlation with clicks\n",
        "\n",
        "corr['clicks'].sort_values(ascending=False)\n"
      ]
    },
    {
      "cell_type": "code",
      "execution_count": null,
      "metadata": {
        "id": "Bt4Omufmg7Qt"
      },
      "outputs": [],
      "source": [
        "# using the features with correlation > 0.1 from corr['clicks']\n",
        "\n",
        "corr_features = corr['clicks'][corr['clicks'] > 0].index.drop('clicks')"
      ]
    },
    {
      "cell_type": "code",
      "execution_count": null,
      "metadata": {
        "id": "SYedaTPXg7Qt"
      },
      "outputs": [],
      "source": [
        "%%capture\n",
        "x = X[corr_features]\n",
        "# y = df['clicks']\n",
        "\n",
        "# # add date features for time series\n",
        "x['year'] = X['year']\n",
        "x['month'] = X['month']\n",
        "x['day'] = X['day']"
      ]
    },
    {
      "cell_type": "code",
      "execution_count": null,
      "metadata": {
        "colab": {
          "base_uri": "https://localhost:8080/",
          "height": 226
        },
        "id": "N-KWCQkBg7Qu",
        "outputId": "817fc89d-a8b3-404f-a7b4-5f158c1bbd9b"
      },
      "outputs": [],
      "source": [
        "x.head()"
      ]
    },
    {
      "cell_type": "code",
      "execution_count": null,
      "metadata": {
        "colab": {
          "base_uri": "https://localhost:8080/"
        },
        "id": "gYQ8k-AVg7Qu",
        "outputId": "bc30e499-f224-4480-ac00-a89ee80db064"
      },
      "outputs": [],
      "source": [
        "# length check\n",
        "len(x) == len(y)"
      ]
    },
    {
      "cell_type": "code",
      "execution_count": null,
      "metadata": {
        "id": "GmrdqrHbg7Qv"
      },
      "outputs": [],
      "source": [
        "# train test split\n",
        "from sklearn.model_selection import train_test_split\n",
        "\n",
        "x_train, x_test, y_train, y_test = train_test_split(x, y, test_size=0.2, random_state=42)"
      ]
    },
    {
      "cell_type": "markdown",
      "metadata": {
        "id": "Jh1v6Rnnq6HS"
      },
      "source": [
        "# models"
      ]
    },
    {
      "cell_type": "code",
      "execution_count": null,
      "metadata": {
        "colab": {
          "base_uri": "https://localhost:8080/"
        },
        "id": "RBegWz4tg7Qv",
        "outputId": "88981542-c005-432d-bb1b-bced9840054c"
      },
      "outputs": [],
      "source": [
        "# import xgboost as xgb\n",
        "# from sklearn.ensemble import RandomForestRegressor\n",
        "# from sklearn.linear_model import LinearRegression, ElasticNet, BayesianRidge\n",
        "# # from sklearn.svm import SVR\n",
        "# from sklearn.neighbors import KNeighborsRegressor\n",
        "# from sklearn.tree import DecisionTreeRegressor\n",
        "# from sklearn.gaussian_process import GaussianProcessRegressor\n",
        "# from sklearn.neural_network import MLPRegressor\n",
        "# from sklearn.model_selection import train_test_split\n",
        "# from sklearn.metrics import mean_squared_error\n",
        "# from math import sqrt\n",
        "\n",
        "# # Initialize and train models\n",
        "# models = {\n",
        "#     # \"XGBoost\": xgb.XGBRegressor(objective='reg:squarederror', n_estimators=1000, learning_rate=0.1, max_depth=3),\n",
        "#     \"RandomForest\": RandomForestRegressor(n_estimators=100, random_state=42),\n",
        "#     # \"LinearRegression\": LinearRegression(),\n",
        "#     # \"ElasticNet\": ElasticNet(),\n",
        "#     # \"BayesianRidge\": BayesianRidge(),\n",
        "#     # \"KNeighborsRegressor\": KNeighborsRegressor(),\n",
        "#     # \"DecisionTreeRegressor\": DecisionTreeRegressor(),\n",
        "#     # \"MLPRegressor\": MLPRegressor()\n",
        "# }\n",
        "\n",
        "# # Train and evaluate models\n",
        "# results = {}\n",
        "# for name, model in models.items():\n",
        "#     print(\"Trainig \", name)\n",
        "#     try:\n",
        "#         model.fit(x_train, y_train)\n",
        "#         predictions = model.predict(x_test)\n",
        "#         mse = mean_squared_error(y_test, predictions)\n",
        "#         results[name] = mse\n",
        "#     except Exception as e:\n",
        "#         print(f\"Error occurred while training {name}: {e}\")\n",
        "#         results[name] = None  # Set MSE to None if an error occurs\n",
        "\n",
        "\n",
        "\n",
        "# # Print results\n",
        "# for name, mse in results.items():\n",
        "#     if mse is not None:\n",
        "#         rmse = sqrt(mse)\n",
        "#         print(f\"{name} |--| Mean Squared Error: {mse}, |--| Root Mean Squared Error: {rmse}\")\n",
        "#     else:\n",
        "#         print(f\"{name} failed to train.\")\n",
        "\n"
      ]
    },
    {
      "cell_type": "markdown",
      "metadata": {
        "id": "2ZLK_MXelISA"
      },
      "source": [
        "# neural Net"
      ]
    },
    {
      "cell_type": "code",
      "execution_count": null,
      "metadata": {
        "id": "YBSQCNsrmEpR"
      },
      "outputs": [],
      "source": [
        "# %%capture\n",
        "# !pip install tensorflow"
      ]
    },
    {
      "cell_type": "code",
      "execution_count": null,
      "metadata": {
        "id": "bfxsxzt-0gdW"
      },
      "outputs": [],
      "source": [
        "import tensorflow as tf\n",
        "from tensorflow.keras.models import Sequential\n",
        "from tensorflow.keras.layers import Dense, LSTM\n",
        "from tensorflow.keras.optimizers import Adam\n",
        "from tensorflow.keras.layers import Normalization\n",
        "from tensorflow.keras.layers import Dropout"
      ]
    },
    {
      "cell_type": "code",
      "execution_count": null,
      "metadata": {
        "colab": {
          "base_uri": "https://localhost:8080/"
        },
        "id": "Q1_5_A-XlISB",
        "outputId": "f1387ca9-7730-4790-88e2-3a5e0e840c9c"
      },
      "outputs": [],
      "source": [
        "model = Sequential([\n",
        "    Dense(64, activation='relu',input_shape=(x_train.shape[1], )),\n",
        "    Dense(32, activation='relu'),\n",
        "    Dense(1)\n",
        "])\n",
        "\n",
        "# Compile model\n",
        "model.compile(optimizer=Adam(learning_rate=0.001), loss='mean_squared_error')\n"
      ]
    },
    {
      "cell_type": "code",
      "execution_count": null,
      "metadata": {},
      "outputs": [],
      "source": [
        "from keras.callbacks import EarlyStopping\n",
        "\n",
        "early_stop = EarlyStopping(monitor='val_loss', patience=10)\n",
        "\n",
        "history = model.fit(x_train, y_train, batch_size=32, epochs=50, validation_split=0.2, verbose=1, callbacks=early_stop)"
      ]
    },
    {
      "cell_type": "code",
      "execution_count": null,
      "metadata": {
        "id": "ybyslLbInwoq"
      },
      "outputs": [],
      "source": [
        "import matplotlib.pyplot as plt\n",
        "\n",
        "# Plot training & validation loss values\n",
        "plt.plot(history.history['loss'])\n",
        "plt.plot(history.history['val_loss'])\n",
        "plt.title('Model loss')\n",
        "plt.ylabel('Loss')\n",
        "plt.xlabel('Epoch')\n",
        "plt.legend(['Train', 'Validation'], loc='upper left')\n",
        "plt.show()\n"
      ]
    },
    {
      "cell_type": "markdown",
      "metadata": {
        "id": "I0-6yb3Yr3r1"
      },
      "source": [
        "# Submision file Generation / inference\n"
      ]
    },
    {
      "cell_type": "code",
      "execution_count": null,
      "metadata": {
        "id": "fdGSrLtwycjt"
      },
      "outputs": [],
      "source": [
        "# model_choice = \"RandomForest\"\n",
        "# model = models[model_choice]"
      ]
    },
    {
      "cell_type": "code",
      "execution_count": null,
      "metadata": {},
      "outputs": [],
      "source": [
        "y_pred.shape"
      ]
    },
    {
      "cell_type": "code",
      "execution_count": null,
      "metadata": {
        "colab": {
          "base_uri": "https://localhost:8080/"
        },
        "id": "3wEQlTuSg7Qw",
        "outputId": "707ff00b-7fd8-40c0-fda1-d7e5d4ee48fc"
      },
      "outputs": [],
      "source": [
        "# model evaluation\n",
        "from sklearn.metrics import mean_squared_error\n",
        "\n",
        "# Evaluate model\n",
        "y_pred = model.predict(x_test)\n",
        "y_pred = y_pred.flatten()\n",
        "\n",
        "mse = mean_squared_error(y_test, y_pred)\n",
        "rmse = np.sqrt(mse)\n",
        "\n",
        "print(f'RMSE: {rmse}')\n",
        "print(f'MSE: {mse}')"
      ]
    },
    {
      "cell_type": "code",
      "execution_count": null,
      "metadata": {
        "id": "f028USZkg7Qx"
      },
      "outputs": [],
      "source": [
        "def extract_id_and_date(string):\n",
        "    parts = string.split('_')\n",
        "    id_str = parts[1]\n",
        "    date_str = '_'.join(parts[2:])\n",
        "    return \"ID_\" + id_str, pd.to_datetime(date_str, format='%Y_%m_%d')\n"
      ]
    },
    {
      "cell_type": "code",
      "execution_count": null,
      "metadata": {
        "id": "zjHGkGITg7Qx"
      },
      "outputs": [],
      "source": [
        "# submission file\n",
        "test_df = pd.read_csv('datasets/SampleSubmission.csv')"
      ]
    },
    {
      "cell_type": "code",
      "execution_count": null,
      "metadata": {
        "id": "0UExOeUqg7Qx"
      },
      "outputs": [],
      "source": [
        "test_df['id'], test_df['date'] = zip(*test_df['ID'].map(extract_id_and_date))\n",
        "test_df['end_date'] = test_df['date'] + pd.Timedelta(days=20)"
      ]
    },
    {
      "cell_type": "code",
      "execution_count": null,
      "metadata": {
        "colab": {
          "base_uri": "https://localhost:8080/",
          "height": 206
        },
        "id": "3NiBqrhYg7Qy",
        "outputId": "ff6d219b-5a60-48bb-d98d-538ab2be8ef2"
      },
      "outputs": [],
      "source": [
        "test_df.head()"
      ]
    },
    {
      "cell_type": "code",
      "execution_count": null,
      "metadata": {
        "colab": {
          "base_uri": "https://localhost:8080/",
          "height": 36
        },
        "id": "lqEDVI_Ig7Qy",
        "outputId": "ca2451ba-a46b-4066-f39c-bf688ce1e68b"
      },
      "outputs": [],
      "source": [
        "test_row = test_df.iloc[0]\n",
        "test_row['id']"
      ]
    },
    {
      "cell_type": "code",
      "execution_count": null,
      "metadata": {
        "id": "ZZDdVREmg7Qy"
      },
      "outputs": [],
      "source": [
        "\n",
        "XX = X.copy()"
      ]
    },
    {
      "cell_type": "code",
      "execution_count": null,
      "metadata": {
        "id": "PtgtARN6g7Qz"
      },
      "outputs": [],
      "source": [
        "XX['date'] = pd.to_datetime(df['date'])"
      ]
    },
    {
      "cell_type": "code",
      "execution_count": null,
      "metadata": {
        "id": "DPXlv7r_g7Qz"
      },
      "outputs": [],
      "source": [
        "XX['ID'] = df['ID']"
      ]
    },
    {
      "cell_type": "code",
      "execution_count": null,
      "metadata": {
        "colab": {
          "base_uri": "https://localhost:8080/",
          "height": 215
        },
        "id": "Flxjjn5eg7Qz",
        "outputId": "f14c5951-299e-4bc6-9282-a10da0603095"
      },
      "outputs": [],
      "source": [
        "XX.head(3)\n"
      ]
    },
    {
      "cell_type": "code",
      "execution_count": null,
      "metadata": {
        "colab": {
          "base_uri": "https://localhost:8080/"
        },
        "id": "755kyTeug7Q0",
        "outputId": "6d17237c-22df-4d76-a7f8-bbce1203964f"
      },
      "outputs": [],
      "source": [
        "def filter_df_by_id_or_date_range(df, id, start_date, end_date, sample=False):\n",
        "    \"\"\"\n",
        "    Filter DataFrame by ID or date range.\n",
        "\n",
        "    Args:\n",
        "    df (DataFrame): Input DataFrame to filter.\n",
        "    id (str): ID to filter.\n",
        "    start_date (str or Timestamp): Start date of the range.\n",
        "    end_date (str or Timestamp): End date of the range.\n",
        "\n",
        "    Returns:\n",
        "    DataFrame: Filtered DataFrame containing rows within the specified ID or date range.\n",
        "    \"\"\"\n",
        "    filtered = df[(( df['ID'].str.contains('id') ) & (df['date'] >= start_date)) | ((df['ID'] == id) & (df['date'] <= end_date))]\n",
        "    if sample: return filtered\n",
        "    return filtered[x.columns]"
      ]
    },
    {
      "cell_type": "code",
      "execution_count": null,
      "metadata": {},
      "outputs": [],
      "source": [
        "# Iterate over each row in test_df\n",
        "for index, test_row in test_df.iterrows():\n",
        "    # Filter rows in XX based on the ID or date range from the current row\n",
        "    filtered_df = filter_df_by_id_or_date_range(XX, test_row['id'], test_row['date'], test_row['end_date'])\n",
        "\n",
        "    # Predict clicks for the filtered data\n",
        "    clicks_predict = model.predict(filtered_df)\n",
        "    clicks_predict = clicks_predict.flatten() + rmse\n",
        "    # Calculate sum of clicks and update the 'clicks' column in test_df\n",
        "    test_df.at[index, 'clicks'] = int(np.mean(clicks_predict))\n",
        "\n"
      ]
    },
    {
      "cell_type": "code",
      "execution_count": null,
      "metadata": {},
      "outputs": [],
      "source": [
        "filtered_df.head()"
      ]
    },
    {
      "cell_type": "code",
      "execution_count": null,
      "metadata": {
        "colab": {
          "base_uri": "https://localhost:8080/"
        },
        "id": "Xt2R4Eqkg7Q0",
        "outputId": "24285b8e-1975-4b0b-d493-d563a46a71be"
      },
      "outputs": [],
      "source": [
        "# count clicks with 0s\n",
        "test_df[test_df['clicks'] == 0].shape[0]"
      ]
    },
    {
      "cell_type": "code",
      "execution_count": null,
      "metadata": {
        "colab": {
          "base_uri": "https://localhost:8080/",
          "height": 206
        },
        "id": "KCBjFYDgg7Q0",
        "outputId": "81c40600-335b-457d-b709-c193e0a53cf6"
      },
      "outputs": [],
      "source": [
        "test_df.head()"
      ]
    },
    {
      "cell_type": "code",
      "execution_count": null,
      "metadata": {
        "id": "6Wayjpvzg7Q0"
      },
      "outputs": [],
      "source": [
        "test_df.to_csv(\"100ep_nn_attempt.csv\", index=False)"
      ]
    }
  ],
  "metadata": {
    "accelerator": "GPU",
    "colab": {
      "gpuType": "T4",
      "provenance": []
    },
    "kernelspec": {
      "display_name": "Python 3",
      "name": "python3"
    },
    "language_info": {
      "codemirror_mode": {
        "name": "ipython",
        "version": 3
      },
      "file_extension": ".py",
      "mimetype": "text/x-python",
      "name": "python",
      "nbconvert_exporter": "python",
      "pygments_lexer": "ipython3",
      "version": "3.11.4"
    }
  },
  "nbformat": 4,
  "nbformat_minor": 0
}
